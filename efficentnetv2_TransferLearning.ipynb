{
  "cells": [
    {
      "cell_type": "markdown",
      "metadata": {
        "id": "YzOcGVOqxgSl"
      },
      "source": [
        "# working on a pretrained model"
      ]
    },
    {
      "cell_type": "markdown",
      "metadata": {
        "id": "fby4GXU7xgSp"
      },
      "source": [
        "## pretrained models as feature extractors"
      ]
    },
    {
      "cell_type": "code",
      "execution_count": null,
      "metadata": {
        "id": "hIPMpoccxgSs"
      },
      "outputs": [],
      "source": [
        "from tensorflow.keras.applications import EfficientNetB0\n",
        "from tensorflow.keras.applications.efficientnet import EfficientNetB0\n",
        "from tensorflow.keras.preprocessing import image\n",
        "import numpy as np"
      ]
    },
    {
      "cell_type": "markdown",
      "metadata": {
        "id": "kzgRcPV6xgS4"
      },
      "source": [
        "###### https://medium.com/@kenneth.ca95/a-guide-to-transfer-learning-with-keras-using-resnet50-a81a4a28084b\n",
        "### Transfer learning for CIFAR using resnet50 of 10 classes"
      ]
    },
    {
      "cell_type": "code",
      "execution_count": null,
      "metadata": {
        "id": "bx20YXcxxgS5"
      },
      "outputs": [],
      "source": [
        "import tensorflow as tf\n",
        "import tensorflow.keras as K\n",
        "from tensorflow.keras.models import Sequential\n",
        "from tensorflow.keras.layers import Flatten, Dense\n",
        "from tensorflow.keras.optimizers import Adam"
      ]
    },
    {
      "cell_type": "code",
      "execution_count": null,
      "metadata": {
        "id": "ycaUnF_DaNUw"
      },
      "outputs": [],
      "source": [
        "def preprocess_data(X, Y):\n",
        "    \"\"\"trains a convolutional neural network to classify the dataset\"\"\"\n",
        "    X_p = K.applications.efficientnet.preprocess_input(X)\n",
        "    Y_p = K.utils.to_categorical(Y, 10)\n",
        "    return X_p, Y_p"
      ]
    },
    {
      "cell_type": "code",
      "execution_count": null,
      "metadata": {
        "colab": {
          "base_uri": "https://localhost:8080/"
        },
        "id": "Qr47fRF-xgS_",
        "outputId": "18a3a549-65a0-4c96-9c45-8e14f6b0da86"
      },
      "outputs": [
        {
          "name": "stdout",
          "output_type": "stream",
          "text": [
            "Downloading data from https://www.cs.toronto.edu/~kriz/cifar-10-python.tar.gz\n",
            "170498071/170498071 [==============================] - 14s 0us/step\n"
          ]
        }
      ],
      "source": [
        "(trainX, trainy), (testX, testy) = K.datasets.cifar10.load_data()\n",
        "trainX, trainy = preprocess_data(trainX, trainy)\n",
        "testX, testy = preprocess_data(testX, testy)"
      ]
    },
    {
      "cell_type": "code",
      "execution_count": null,
      "metadata": {
        "colab": {
          "base_uri": "https://localhost:8080/"
        },
        "id": "9YTGHCMKxgTA",
        "outputId": "5fb4adcb-ff58-453f-f4f3-91822dcbcd28"
      },
      "outputs": [
        {
          "name": "stdout",
          "output_type": "stream",
          "text": [
            "x_train shape: (50000, 32, 32, 3)\n",
            "50000 train samples\n",
            "10000 test samples\n"
          ]
        }
      ],
      "source": [
        "print('x_train shape:', trainX.shape)\n",
        "print(trainX.shape[0], 'train samples')\n",
        "print(testX.shape[0], 'test samples')"
      ]
    },
    {
      "cell_type": "code",
      "execution_count": null,
      "metadata": {
        "colab": {
          "base_uri": "https://localhost:8080/"
        },
        "id": "84UiWj6pxgTB",
        "outputId": "885ee6f4-dfe2-4b38-d93d-2208f9513d5d"
      },
      "outputs": [
        {
          "name": "stdout",
          "output_type": "stream",
          "text": [
            "Downloading data from https://storage.googleapis.com/keras-applications/efficientnetb0_notop.h5\n",
            "16705208/16705208 [==============================] - 2s 0us/step\n"
          ]
        }
      ],
      "source": [
        "inputs = K.Input(shape=(224, 224, 3))\n",
        "#Loading the EfficientNetB0 model with pre-trained ImageNet weights\n",
        "ent = K.applications.EfficientNetB0(weights='imagenet',include_top=False,input_tensor=inputs)"
      ]
    },
    {
      "cell_type": "code",
      "execution_count": null,
      "metadata": {
        "id": "w-b2n3o7xgTC"
      },
      "outputs": [],
      "source": [
        "for layer in ent.layers:\n",
        "    layer.trainable = False"
      ]
    },
    {
      "cell_type": "code",
      "execution_count": null,
      "metadata": {
        "id": "SJcgs1NbxgTE"
      },
      "outputs": [],
      "source": [
        "model = K.models.Sequential()\n",
        "model.add(K.layers.Lambda(lambda x: tf.image.resize(x,(224, 224))))\n",
        "model.add(ent)\n",
        "\n",
        "model.add(K.layers.Flatten())\n",
        "\n",
        "model.add(K.layers.Dense(512, activation='relu'))\n",
        "model.add(K.layers.Dropout(0.5))\n",
        "model.add(K.layers.BatchNormalization())\n",
        "model.add(K.layers.Dense(10, activation='softmax'))"
      ]
    },
    {
      "cell_type": "code",
      "execution_count": null,
      "metadata": {
        "colab": {
          "base_uri": "https://localhost:8080/"
        },
        "id": "3ILGXpsMxgTF",
        "outputId": "9b91d5d6-c4fd-42a5-83f0-657018fcef8a"
      },
      "outputs": [
        {
          "name": "stderr",
          "output_type": "stream",
          "text": [
            "/usr/local/lib/python3.8/dist-packages/keras/optimizers/optimizer_v2/rmsprop.py:135: UserWarning: The `lr` argument is deprecated, use `learning_rate` instead.\n",
            "  super(RMSprop, self).__init__(name, **kwargs)\n"
          ]
        },
        {
          "name": "stdout",
          "output_type": "stream",
          "text": [
            "Epoch 1/10\n",
            "1563/1563 [==============================] - 169s 99ms/step - loss: 0.2732 - accuracy: 0.8474 - val_loss: 0.0641 - val_accuracy: 0.9030\n",
            "Epoch 2/10\n",
            "1563/1563 [==============================] - 173s 111ms/step - loss: 0.0654 - accuracy: 0.9028 - val_loss: 0.0496 - val_accuracy: 0.9144\n",
            "Epoch 3/10\n",
            "1563/1563 [==============================] - 152s 97ms/step - loss: 0.0492 - accuracy: 0.9256 - val_loss: 0.0470 - val_accuracy: 0.9180\n",
            "Epoch 4/10\n",
            "1563/1563 [==============================] - 152s 97ms/step - loss: 0.0401 - accuracy: 0.9409 - val_loss: 0.0455 - val_accuracy: 0.9211\n",
            "Epoch 5/10\n",
            "1563/1563 [==============================] - 152s 97ms/step - loss: 0.0335 - accuracy: 0.9525 - val_loss: 0.0451 - val_accuracy: 0.9233\n",
            "Epoch 6/10\n",
            "1563/1563 [==============================] - 151s 97ms/step - loss: 0.0297 - accuracy: 0.9589 - val_loss: 0.0474 - val_accuracy: 0.9233\n",
            "Epoch 7/10\n",
            "1563/1563 [==============================] - 151s 97ms/step - loss: 0.0260 - accuracy: 0.9662 - val_loss: 0.0470 - val_accuracy: 0.9246\n",
            "Epoch 8/10\n",
            "1563/1563 [==============================] - 151s 97ms/step - loss: 0.0233 - accuracy: 0.9700 - val_loss: 0.0490 - val_accuracy: 0.9235\n",
            "Epoch 9/10\n",
            "1563/1563 [==============================] - 151s 97ms/step - loss: 0.0212 - accuracy: 0.9729 - val_loss: 0.0493 - val_accuracy: 0.9233\n",
            "Epoch 10/10\n",
            "1563/1563 [==============================] - 152s 97ms/step - loss: 0.0200 - accuracy: 0.9753 - val_loss: 0.0489 - val_accuracy: 0.9266\n",
            "Model: \"sequential\"\n",
            "_________________________________________________________________\n",
            " Layer (type)                Output Shape              Param #   \n",
            "=================================================================\n",
            " lambda (Lambda)             (None, 224, 224, 3)       0         \n",
            "                                                                 \n",
            " efficientnetb0 (Functional)  (None, 7, 7, 1280)       4049571   \n",
            "                                                                 \n",
            " flatten (Flatten)           (None, 62720)             0         \n",
            "                                                                 \n",
            " dense (Dense)               (None, 512)               32113152  \n",
            "                                                                 \n",
            " dropout (Dropout)           (None, 512)               0         \n",
            "                                                                 \n",
            " batch_normalization (BatchN  (None, 512)              2048      \n",
            " ormalization)                                                   \n",
            "                                                                 \n",
            " dense_1 (Dense)             (None, 10)                5130      \n",
            "                                                                 \n",
            "=================================================================\n",
            "Total params: 36,169,901\n",
            "Trainable params: 32,119,306\n",
            "Non-trainable params: 4,050,595\n",
            "_________________________________________________________________\n"
          ]
        }
      ],
      "source": [
        "model.compile(loss='binary_crossentropy',\n",
        "     optimizer=K.optimizers.RMSprop(lr=0.0001), metrics=['accuracy'])\n",
        "model.fit(trainX, trainy, batch_size=32, epochs=10, verbose=1,\n",
        "     validation_data=(testX, testy), \n",
        "     shuffle=True)\n",
        "model.summary()\n",
        "# model.save(\"cifar10.h5\")\n",
        "# best accuarcy at epoch 9 after that overfitting "
      ]
    },
    {
      "cell_type": "code",
      "execution_count": null,
      "metadata": {
        "colab": {
          "background_save": true,
          "base_uri": "https://localhost:8080/"
        },
        "id": "cLeLykPPxgTH",
        "outputId": "0f6bc485-7814-4dd0-d918-04628ae1502d"
      },
      "outputs": [
        {
          "name": "stdout",
          "output_type": "stream",
          "text": [
            "313/313 [==============================] - 22s 67ms/step\n"
          ]
        },
        {
          "data": {
            "text/plain": [
              "array([3, 8, 8, ..., 5, 1, 7])"
            ]
          },
          "execution_count": 10,
          "metadata": {},
          "output_type": "execute_result"
        }
      ],
      "source": [
        "image_pred=model.predict(testX)\n",
        "np.argmax(image_pred,axis=1)"
      ]
    },
    {
      "cell_type": "code",
      "execution_count": null,
      "metadata": {
        "id": "7WlbEcFhxgTJ"
      },
      "outputs": [],
      "source": [
        "model = K.models.Sequential()\n",
        "model.add(K.layers.Lambda(lambda x: tf.image.resize(x,(224, 224))))\n",
        "model.add(ent)\n",
        "\n",
        "model.add(K.layers.GlobalAveragePooling2D())\n",
        "\n",
        "model.add(K.layers.BatchNormalization())\n",
        "model.add(K.layers.Dense(512, activation='relu'))\n",
        "model.add(K.layers.Dropout(0.5))\n",
        "model.add(K.layers.BatchNormalization())\n",
        "model.add(K.layers.Dense(10, activation='softmax'))"
      ]
    },
    {
      "cell_type": "code",
      "execution_count": null,
      "metadata": {
        "colab": {
          "base_uri": "https://localhost:8080/"
        },
        "id": "TGIg2IjpxgTJ",
        "outputId": "c02def8a-a8ca-487b-acbb-8f4c8f976acd"
      },
      "outputs": [
        {
          "name": "stderr",
          "output_type": "stream",
          "text": [
            "/usr/local/lib/python3.8/dist-packages/keras/optimizers/optimizer_v2/rmsprop.py:135: UserWarning: The `lr` argument is deprecated, use `learning_rate` instead.\n",
            "  super(RMSprop, self).__init__(name, **kwargs)\n"
          ]
        },
        {
          "name": "stdout",
          "output_type": "stream",
          "text": [
            "Epoch 1/5\n",
            "1562/1563 [============================>.] - ETA: 0s - loss: 0.1012 - accuracy: 0.8577\n",
            "Epoch 1: val_accuracy improved from -inf to 0.89970, saving model to cifar10.h5\n",
            "1563/1563 [==============================] - 144s 88ms/step - loss: 0.1011 - accuracy: 0.8577 - val_loss: 0.0534 - val_accuracy: 0.8997\n",
            "Epoch 2/5\n",
            "1562/1563 [============================>.] - ETA: 0s - loss: 0.0601 - accuracy: 0.8921\n",
            "Epoch 2: val_accuracy improved from 0.89970 to 0.90550, saving model to cifar10.h5\n",
            "1563/1563 [==============================] - 136s 87ms/step - loss: 0.0601 - accuracy: 0.8921 - val_loss: 0.0529 - val_accuracy: 0.9055\n",
            "Epoch 3/5\n",
            "1563/1563 [==============================] - ETA: 0s - loss: 0.0539 - accuracy: 0.9034\n",
            "Epoch 3: val_accuracy improved from 0.90550 to 0.91220, saving model to cifar10.h5\n",
            "1563/1563 [==============================] - 136s 87ms/step - loss: 0.0539 - accuracy: 0.9034 - val_loss: 0.0489 - val_accuracy: 0.9122\n",
            "Epoch 4/5\n",
            "1562/1563 [============================>.] - ETA: 0s - loss: 0.0498 - accuracy: 0.9135\n",
            "Epoch 4: val_accuracy improved from 0.91220 to 0.91700, saving model to cifar10.h5\n",
            "1563/1563 [==============================] - 136s 87ms/step - loss: 0.0498 - accuracy: 0.9135 - val_loss: 0.0474 - val_accuracy: 0.9170\n",
            "Epoch 5/5\n",
            "1562/1563 [============================>.] - ETA: 0s - loss: 0.0456 - accuracy: 0.9223\n",
            "Epoch 5: val_accuracy did not improve from 0.91700\n",
            "1563/1563 [==============================] - 136s 87ms/step - loss: 0.0456 - accuracy: 0.9223 - val_loss: 0.0498 - val_accuracy: 0.9167\n",
            "Model: \"sequential_12\"\n",
            "_________________________________________________________________\n",
            " Layer (type)                Output Shape              Param #   \n",
            "=================================================================\n",
            " lambda_12 (Lambda)          (None, 224, 224, 3)       0         \n",
            "                                                                 \n",
            " efficientnetb0 (Functional)  (None, 7, 7, 1280)       4049571   \n",
            "                                                                 \n",
            " global_average_pooling2d_11  (None, 1280)             0         \n",
            "  (GlobalAveragePooling2D)                                       \n",
            "                                                                 \n",
            " batch_normalization_22 (Bat  (None, 1280)             5120      \n",
            " chNormalization)                                                \n",
            "                                                                 \n",
            " dense_24 (Dense)            (None, 512)               655872    \n",
            "                                                                 \n",
            " dropout_7 (Dropout)         (None, 512)               0         \n",
            "                                                                 \n",
            " batch_normalization_23 (Bat  (None, 512)              2048      \n",
            " chNormalization)                                                \n",
            "                                                                 \n",
            " dense_25 (Dense)            (None, 10)                5130      \n",
            "                                                                 \n",
            "=================================================================\n",
            "Total params: 4,717,741\n",
            "Trainable params: 664,586\n",
            "Non-trainable params: 4,053,155\n",
            "_________________________________________________________________\n"
          ]
        }
      ],
      "source": [
        "model.compile(loss='binary_crossentropy',\n",
        "     optimizer=K.optimizers.RMSprop(lr=0.0001), metrics=['accuracy'])\n",
        "checkpointer = K.callbacks.ModelCheckpoint(filepath='cifar10.h5',\n",
        "     monitor=\"val_accuracy\", verbose=1, save_best_only=True)\n",
        "model.fit(trainX, trainy, batch_size=32, epochs=10, verbose=1,\n",
        "     callbacks=[checkpointer], validation_data=(testX, testy),\n",
        "     shuffle=True)\n",
        "model.summary()\n",
        "# model.save(\"cifar10.h5\")"
      ]
    },
    {
      "cell_type": "code",
      "execution_count": null,
      "metadata": {
        "colab": {
          "base_uri": "https://localhost:8080/"
        },
        "id": "otUja_BBxgTK",
        "outputId": "a3ce83c6-12c5-4528-ca95-4000f0957831"
      },
      "outputs": [
        {
          "name": "stdout",
          "output_type": "stream",
          "text": [
            "313/313 [==============================] - 22s 67ms/step\n"
          ]
        },
        {
          "data": {
            "text/plain": [
              "array([3, 8, 8, ..., 5, 0, 7])"
            ]
          },
          "execution_count": 79,
          "metadata": {},
          "output_type": "execute_result"
        }
      ],
      "source": [
        "image_pred=model.predict(testX)\n",
        "np.argmax(image_pred,axis=1)"
      ]
    },
    {
      "cell_type": "code",
      "execution_count": null,
      "metadata": {
        "id": "_sissUclnVrT"
      },
      "outputs": [],
      "source": []
    }
  ],
  "metadata": {
    "accelerator": "GPU",
    "colab": {
      "provenance": []
    },
    "gpuClass": "standard",
    "kernelspec": {
      "display_name": "Python 3 (ipykernel)",
      "language": "python",
      "name": "python3"
    },
    "language_info": {
      "codemirror_mode": {
        "name": "ipython",
        "version": 3
      },
      "file_extension": ".py",
      "mimetype": "text/x-python",
      "name": "python",
      "nbconvert_exporter": "python",
      "pygments_lexer": "ipython3",
      "version": "3.9.13"
    }
  },
  "nbformat": 4,
  "nbformat_minor": 0
}